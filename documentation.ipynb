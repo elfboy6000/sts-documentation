{
 "cells": [
  {
   "metadata": {},
   "cell_type": "markdown",
   "source": [
    "# Probability & Statistics Cheat-Sheet\n",
    "\n",
    "This notebook collects:\n",
    "- Core formulas (PMF, empirical CDF, grouped PDF/CDF)\n",
    "- Worked examples that match your exercises\n",
    "- A graph showing how to read **counts** directly from the **empirical CDF**\n",
    "\n",
    "---\n",
    "\n",
    "## 1. Probability Mass Function (PMF) – for discrete data\n",
    "\n",
    "$$\n",
    "f(x) = P(X = x) = \\frac{\\#\\{x_i = x\\}}{n}\n",
    "$$\n",
    "\n",
    "- Count how many sample values equal $x$.\n",
    "- Divide by total sample size $n$.\n",
    "\n",
    "**Example**\n",
    "$x=[0,-3,3,-3,-3,-3,-2,1,-3,0,1,-3,2,3,-2,2,3,0,-3]$\n",
    "\n",
    "**Goal.** $f(3)=P(X=3)=\\dfrac{\\#\\{x_i=3\\}}{n}$\n",
    "\n",
    "- Count 3’s: there are **3** of them.\n",
    "- Sample size $n=19$.\n",
    "\n",
    "**Result.**\n",
    "$\\displaystyle f(3)=\\frac{3}{19}$\n"
   ],
   "id": "5b44773f689cf114"
  },
  {
   "cell_type": "code",
   "id": "initial_id",
   "metadata": {
    "collapsed": true,
    "ExecuteTime": {
     "end_time": "2025-10-02T08:44:21.143262Z",
     "start_time": "2025-10-02T08:44:21.132625Z"
    }
   },
   "source": [
    "sample = [0, -3, 3, -3, -3, -3, -2, 1, -3, 0, 1, -3, 2, 3, -2, 2, 3, 0, -3]\n",
    "n = len(sample)\n",
    "from collections import Counter\n",
    "\n",
    "counts = Counter(sample)\n",
    "pmf = {k: counts[k] / n for k in sorted(counts)}\n",
    "print(\"n =\", n)\n",
    "print(\"PMF table:\")\n",
    "for k in sorted(pmf):\n",
    "    print(f\"  f({k}) = {counts[k]}/{n} = {pmf[k]:.4f}\")\n",
    "\n",
    "print(\"\\nExample: f(3) =\", pmf.get(3, 0.0))"
   ],
   "outputs": [
    {
     "name": "stdout",
     "output_type": "stream",
     "text": [
      "n = 19\n",
      "PMF table:\n",
      "  f(-3) = 7/19 = 0.3684\n",
      "  f(-2) = 2/19 = 0.1053\n",
      "  f(0) = 3/19 = 0.1579\n",
      "  f(1) = 2/19 = 0.1053\n",
      "  f(2) = 2/19 = 0.1053\n",
      "  f(3) = 3/19 = 0.1579\n",
      "\n",
      "Example: f(3) = 0.15789473684210525\n"
     ]
    }
   ],
   "execution_count": 1
  },
  {
   "metadata": {},
   "cell_type": "markdown",
   "source": [
    "## 2. Empirical Cumulative Distribution Function (CDF) – for discrete data\n",
    "\n",
    "$$\n",
    "F(x) = P(X \\leq x) = \\frac{\\#\\{x_i \\leq x\\}}{n}\n",
    "$$\n",
    "\n",
    "- Count how many sample values are less than or equal to $x$.\n",
    "- Divide by $n$.\n",
    "- Always non-decreasing, $F(x) \\to 1$ at the maximum sample value.\n",
    "\n",
    "**Example**\n",
    "$x=[-3,2,0,-2,-1,6,-2,-1,4,2,0,0,6,3,-3,0,2,3]$\n",
    "\n",
    "**Goal.** $F(8)=P(X\\le 8)=\\dfrac{\\#\\{x_i\\le 8\\}}{n}$\n",
    "\n",
    "- The maximum value is $6\\le 8$, so **all** values are $\\le 8$.\n",
    "- $n=18$.\n",
    "\n",
    "**Result.**\n",
    "$\\displaystyle F(8)=\\frac{18}{18}=1$\n"
   ],
   "id": "be3b6e7cc0004871"
  },
  {
   "metadata": {
    "ExecuteTime": {
     "end_time": "2025-10-02T09:03:17.187466Z",
     "start_time": "2025-10-02T09:03:17.181017Z"
    }
   },
   "cell_type": "code",
   "source": [
    "sample = [0, -3, 3, -3, -3, -3, -2, 1, -3, 0, 1, -3, 2, 3, -2, 2, 3, 0, -3]\n",
    "def empirical_cdf(x, data):\n",
    "    return sum(1 for v in data if v <= x) / len(data)\n",
    "\n",
    "F8 = empirical_cdf(8, sample)\n",
    "print(\"F(8) =\", F8)"
   ],
   "id": "6f1d505ea3f47d34",
   "outputs": [
    {
     "name": "stdout",
     "output_type": "stream",
     "text": [
      "F(8) = 1.0\n"
     ]
    }
   ],
   "execution_count": 3
  },
  {
   "metadata": {},
   "cell_type": "markdown",
   "source": [
    "## 3. PDF (Histogram Density) – for grouped data\n",
    "\n",
    "If data is grouped into classes:\n",
    "\n",
    "$$\n",
    "f(x) = \\frac{\\text{relative frequency of class}}{\\text{class width}}\n",
    "$$\n",
    "\n",
    "Where:\n",
    "\n",
    "- Relative frequency = $\\dfrac{\\text{class frequency}}{n}$.\n",
    "- Class width = $U - L$, where $L$ = lower bound, $U$ = upper bound.\n",
    "- This gives **density**, not direct probability.\n",
    "\n",
    "**Example**\n",
    "\n",
    "We have grouped data with the following classes and frequencies:\n",
    "\n",
    "| Class $[L,U)$ | Freq. $h$ | Width $w=U-L$ | Rel. freq. $h/n$ |\n",
    "|---|---:|---:|---:|\n",
    "| $[13,45)$  | 13 | 32  | $13/55$ |\n",
    "| $[45,102)$ | 12 | 57  | $12/55$ |\n",
    "| $[102,176)$| 5  | 74  | $5/55$  |\n",
    "| $[176,360)$| 17 | 184 | $17/55$ |\n",
    "| $[360,782)$| 8  | 422 | $8/55$  |\n",
    "\n",
    "Total $n=55$. Since $14\\in[13,45)$:\n",
    "\n",
    "- $w=32$, $h=13$\n",
    "\n",
    "**Formula (histogram density).**\n",
    "$\\displaystyle f(x)=\\frac{\\text{relative freq.}}{\\text{class width}}=\\frac{h/n}{w}$\n",
    "\n",
    "**Calculation.**\n",
    "$\\displaystyle f(14)=\\frac{13/55}{32}=\\frac{13}{1760}\\approx 0.00739$\n",
    "\n",
    "**Result.**\n",
    "$\\boxed{\\;\\dfrac{13}{1760}\\;}$"
   ],
   "id": "107f9b369ca4d6f9"
  },
  {
   "metadata": {},
   "cell_type": "markdown",
   "source": [
    "## 4. CDF – for grouped data (linear interpolation inside class)\n",
    "\n",
    "If \\(x \\in [L, U)\\) is in a class with frequency \\(h\\), width \\(w = U-L\\), and cumulative frequency before the class = \\(c\\):\n",
    "\n",
    "$$\n",
    "F(x) = \\frac{c}{n} + \\frac{h}{n} \\cdot \\frac{x - L}{w}\n",
    "$$\n",
    "\n",
    "- First part = probability of all earlier classes.\n",
    "- Second part = fraction of current class covered up to \\(x\\).\n",
    "\n",
    "**Example**\n",
    "\n",
    "We have grouped data with the following relative frequencies:\n",
    "\n",
    "| Class $[L,U)$ | Rel. freq. |\n",
    "|---|---:|\n",
    "| $[6,21)$   | $\\dfrac{13}{67}$ |\n",
    "| $[21,32)$  | $\\dfrac{13}{67}$ |\n",
    "| $[32,80)$  | $\\dfrac{7}{67}$  |\n",
    "| $[80,172)$ | $\\dfrac{28}{67}$ |\n",
    "| $[172,202)$| $\\dfrac{12}{67}$ |\n",
    "\n",
    "$93\\in[80,172)$, with $L=80,\\ U=172,\\ w=92$.\n",
    "Cumulative relative frequency **before** this class:\n",
    "$\\dfrac{13}{67}+\\dfrac{13}{67}+\\dfrac{7}{67}=\\dfrac{27}{67}$.\n",
    "\n",
    "**Linear interpolation inside the class.**\n",
    "Fraction of the class covered up to $x$: $\\dfrac{x-L}{w}=\\dfrac{93-80}{92}=\\dfrac{13}{92}$.\n",
    "\n",
    "**Formula.**\n",
    "$\\displaystyle F(x)=\\text{cum\\_before}+\\text{rel\\_freq(class)}\\cdot\\frac{x-L}{w}$\n",
    "\n",
    "**Calculation.**\n",
    "$\\displaystyle F(93)=\\frac{27}{67}+\\frac{28}{67}\\cdot\\frac{13}{92}\n",
    "=\\frac{712}{1541}\\approx 0.462$\n",
    "\n",
    "**Result.**\n",
    "$\\boxed{\\;\\dfrac{712}{1541}\\;}$"
   ],
   "id": "72351fb3ec75122b"
  },
  {
   "metadata": {},
   "cell_type": "markdown",
   "source": [
    "## 5. From CDF to counts (Empirical CDF graph, total size \\(n\\)) (WORK IN PROGRESS)\n",
    "\n",
    "- **At most \\(t\\):**\n",
    "\n",
    "$$\n",
    "\\# = n \\cdot F(t)\n",
    "$$\n",
    "\n",
    "- **More than \\(t\\):**\n",
    "\n",
    "$$\n",
    "\\# = n \\cdot (1 - F(t))\n",
    "$$\n"
   ],
   "id": "123cdfae58130252"
  }
 ],
 "metadata": {
  "kernelspec": {
   "display_name": "Python 3",
   "language": "python",
   "name": "python3"
  },
  "language_info": {
   "codemirror_mode": {
    "name": "ipython",
    "version": 2
   },
   "file_extension": ".py",
   "mimetype": "text/x-python",
   "name": "python",
   "nbconvert_exporter": "python",
   "pygments_lexer": "ipython2",
   "version": "2.7.6"
  }
 },
 "nbformat": 4,
 "nbformat_minor": 5
}
